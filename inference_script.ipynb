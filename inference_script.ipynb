{
 "cells": [
  {
   "cell_type": "code",
   "execution_count": 4,
   "metadata": {},
   "outputs": [
    {
     "name": "stdout",
     "output_type": "stream",
     "text": [
      "Predicted Categories: ['documentation', 'test']\n"
     ]
    }
   ],
   "source": [
    "import torch\n",
    "from transformers import AutoTokenizer, AutoModelForSequenceClassification\n",
    "import numpy as np\n",
    "\n",
    "inference_model_dir = \"./python_model_epoch10\"\n",
    "inference_tokenizer = AutoTokenizer.from_pretrained(inference_model_dir)\n",
    "inference_model = AutoModelForSequenceClassification.from_pretrained(inference_model_dir)\n",
    "\n",
    "# I cannot get this label variable below from the dataset to save for some reason\n",
    "# However if you want to enable the original line to check my work go for it. \n",
    "# Instead of the correct labels it will just print [0,1]\n",
    "# which still shows that it is classifying multiple catagoies\n",
    "\n",
    "# id2label = inference_model.config.id2label \n",
    "id2label = {0: \"documentation\", 1: \"test\", 2: \"todo\"} #achieved same result manually for testing\n",
    "\n",
    "test_comment = \"This method handles user authentication and checks credentials.\"\n",
    "\n",
    "inputs = inference_tokenizer(\n",
    "    test_comment,\n",
    "    truncation=True,\n",
    "    padding=\"max_length\",\n",
    "    max_length=128,\n",
    "    return_tensors=\"pt\"\n",
    ")\n",
    "\n",
    "\n",
    "with torch.no_grad(): #run the inference/\n",
    "    outputs = inference_model(**inputs)\n",
    "    logits = outputs.logits\n",
    "    probs = torch.sigmoid(logits)\n",
    "    probs = probs.squeeze().numpy()\n",
    "\n",
    "preds = (probs > 0.5).astype(int)\n",
    "\n",
    "predicted_labels = [id2label[i] for i, p in enumerate(preds) if p == 1]\n",
    "print(\"Predicted Categories:\", predicted_labels)"
   ]
  }
 ],
 "metadata": {
  "kernelspec": {
   "display_name": "3.9.18",
   "language": "python",
   "name": "python3"
  },
  "language_info": {
   "codemirror_mode": {
    "name": "ipython",
    "version": 3
   },
   "file_extension": ".py",
   "mimetype": "text/x-python",
   "name": "python",
   "nbconvert_exporter": "python",
   "pygments_lexer": "ipython3",
   "version": "3.9.18"
  }
 },
 "nbformat": 4,
 "nbformat_minor": 2
}
