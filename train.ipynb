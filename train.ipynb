{
 "cells": [
  {
   "cell_type": "code",
   "execution_count": 2,
   "metadata": {},
   "outputs": [
    {
     "name": "stdout",
     "output_type": "stream",
     "text": [
      "Train columns: ['index', 'class', 'comment_sentence', 'partition', 'combo', 'labels']\n",
      "First training example: {'index': 1, 'class': 'AccessMixin', 'comment_sentence': 'functionality.', 'partition': 0, 'combo': 'functionality. | AccessMixin', 'labels': [0, 0, 0, 0, 1]}\n",
      "Unique labels extracted: [0, 1]\n",
      "Label2ID mapping: {0: 0, 1: 1}\n"
     ]
    },
    {
     "data": {
      "application/vnd.jupyter.widget-view+json": {
       "model_id": "a22aca80ac4d41ca85de52202b502960",
       "version_major": 2,
       "version_minor": 0
      },
      "text/plain": [
       "Map:   0%|          | 0/406 [00:00<?, ? examples/s]"
      ]
     },
     "metadata": {},
     "output_type": "display_data"
    },
    {
     "data": {
      "application/vnd.jupyter.widget-view+json": {
       "model_id": "f4174fc2092e43fa8ece7b1d74468418",
       "version_major": 2,
       "version_minor": 0
      },
      "text/plain": [
       "Casting the dataset:   0%|          | 0/406 [00:00<?, ? examples/s]"
      ]
     },
     "metadata": {},
     "output_type": "display_data"
    },
    {
     "name": "stderr",
     "output_type": "stream",
     "text": [
      "Some weights of BertForSequenceClassification were not initialized from the model checkpoint at bert-base-uncased and are newly initialized: ['classifier.bias', 'classifier.weight']\n",
      "You should probably TRAIN this model on a down-stream task to be able to use it for predictions and inference.\n"
     ]
    },
    {
     "name": "stdout",
     "output_type": "stream",
     "text": [
      "Data preprocessing complete. Ready for model training.\n"
     ]
    },
    {
     "name": "stderr",
     "output_type": "stream",
     "text": [
      "/Users/ryancblocker/.pyenv/versions/3.9.18/lib/python3.9/site-packages/transformers/training_args.py:1568: FutureWarning: `evaluation_strategy` is deprecated and will be removed in version 4.46 of 🤗 Transformers. Use `eval_strategy` instead\n",
      "  warnings.warn(\n",
      "/var/folders/58/zwxktyh56bs0n0y924gcbr_w0000gn/T/ipykernel_84897/3625358242.py:115: FutureWarning: `tokenizer` is deprecated and will be removed in version 5.0.0 for `Trainer.__init__`. Use `processing_class` instead.\n",
      "  trainer = Trainer(\n"
     ]
    },
    {
     "data": {
      "application/vnd.jupyter.widget-view+json": {
       "model_id": "4180e0d18a12420285bfe96f9a135475",
       "version_major": 2,
       "version_minor": 0
      },
      "text/plain": [
       "  0%|          | 0/1180 [00:00<?, ?it/s]"
      ]
     },
     "metadata": {},
     "output_type": "display_data"
    },
    {
     "data": {
      "application/vnd.jupyter.widget-view+json": {
       "model_id": "329f4419f73541fb86404301c31b3ad1",
       "version_major": 2,
       "version_minor": 0
      },
      "text/plain": [
       "  0%|          | 0/26 [00:00<?, ?it/s]"
      ]
     },
     "metadata": {},
     "output_type": "display_data"
    },
    {
     "name": "stdout",
     "output_type": "stream",
     "text": [
      "{'eval_loss': 0.0012887378688901663, 'eval_accuracy': 1.0, 'eval_precision': 1.0, 'eval_recall': 1.0, 'eval_f1': 1.0, 'eval_runtime': 3.6124, 'eval_samples_per_second': 112.392, 'eval_steps_per_second': 7.198, 'epoch': 1.0}\n"
     ]
    },
    {
     "data": {
      "application/vnd.jupyter.widget-view+json": {
       "model_id": "db21c6b293d245a6aefa26c84247b3a1",
       "version_major": 2,
       "version_minor": 0
      },
      "text/plain": [
       "  0%|          | 0/26 [00:00<?, ?it/s]"
      ]
     },
     "metadata": {},
     "output_type": "display_data"
    },
    {
     "name": "stdout",
     "output_type": "stream",
     "text": [
      "{'eval_loss': 0.0006057982100173831, 'eval_accuracy': 1.0, 'eval_precision': 1.0, 'eval_recall': 1.0, 'eval_f1': 1.0, 'eval_runtime': 3.5306, 'eval_samples_per_second': 114.995, 'eval_steps_per_second': 7.364, 'epoch': 2.0}\n"
     ]
    },
    {
     "data": {
      "application/vnd.jupyter.widget-view+json": {
       "model_id": "ed57843db7084baaa9cc2918a1aae741",
       "version_major": 2,
       "version_minor": 0
      },
      "text/plain": [
       "  0%|          | 0/26 [00:00<?, ?it/s]"
      ]
     },
     "metadata": {},
     "output_type": "display_data"
    },
    {
     "name": "stdout",
     "output_type": "stream",
     "text": [
      "{'eval_loss': 0.000392155401641503, 'eval_accuracy': 1.0, 'eval_precision': 1.0, 'eval_recall': 1.0, 'eval_f1': 1.0, 'eval_runtime': 3.5299, 'eval_samples_per_second': 115.016, 'eval_steps_per_second': 7.366, 'epoch': 3.0}\n"
     ]
    },
    {
     "data": {
      "application/vnd.jupyter.widget-view+json": {
       "model_id": "4a85ad120d0946c68f83b5ba21408e03",
       "version_major": 2,
       "version_minor": 0
      },
      "text/plain": [
       "  0%|          | 0/26 [00:00<?, ?it/s]"
      ]
     },
     "metadata": {},
     "output_type": "display_data"
    },
    {
     "name": "stdout",
     "output_type": "stream",
     "text": [
      "{'eval_loss': 0.00029024379909969866, 'eval_accuracy': 1.0, 'eval_precision': 1.0, 'eval_recall': 1.0, 'eval_f1': 1.0, 'eval_runtime': 3.6239, 'eval_samples_per_second': 112.034, 'eval_steps_per_second': 7.175, 'epoch': 4.0}\n",
      "{'loss': 0.01, 'grad_norm': 0.005015821196138859, 'learning_rate': 2.88135593220339e-05, 'epoch': 4.24}\n"
     ]
    },
    {
     "data": {
      "application/vnd.jupyter.widget-view+json": {
       "model_id": "0b3ec3bfbcb14a8c851053c4fbfb7ef9",
       "version_major": 2,
       "version_minor": 0
      },
      "text/plain": [
       "  0%|          | 0/26 [00:00<?, ?it/s]"
      ]
     },
     "metadata": {},
     "output_type": "display_data"
    },
    {
     "name": "stdout",
     "output_type": "stream",
     "text": [
      "{'eval_loss': 0.00023310464166570455, 'eval_accuracy': 1.0, 'eval_precision': 1.0, 'eval_recall': 1.0, 'eval_f1': 1.0, 'eval_runtime': 3.9651, 'eval_samples_per_second': 102.392, 'eval_steps_per_second': 6.557, 'epoch': 5.0}\n"
     ]
    },
    {
     "data": {
      "application/vnd.jupyter.widget-view+json": {
       "model_id": "6e0c113d75474f9698d2689843b86222",
       "version_major": 2,
       "version_minor": 0
      },
      "text/plain": [
       "  0%|          | 0/26 [00:00<?, ?it/s]"
      ]
     },
     "metadata": {},
     "output_type": "display_data"
    },
    {
     "name": "stdout",
     "output_type": "stream",
     "text": [
      "{'eval_loss': 0.0001979899825528264, 'eval_accuracy': 1.0, 'eval_precision': 1.0, 'eval_recall': 1.0, 'eval_f1': 1.0, 'eval_runtime': 3.6803, 'eval_samples_per_second': 110.317, 'eval_steps_per_second': 7.065, 'epoch': 6.0}\n"
     ]
    },
    {
     "data": {
      "application/vnd.jupyter.widget-view+json": {
       "model_id": "3a4cdf6225ea43c68a5b11426cd11d67",
       "version_major": 2,
       "version_minor": 0
      },
      "text/plain": [
       "  0%|          | 0/26 [00:00<?, ?it/s]"
      ]
     },
     "metadata": {},
     "output_type": "display_data"
    },
    {
     "name": "stdout",
     "output_type": "stream",
     "text": [
      "{'eval_loss': 0.0001753221295075491, 'eval_accuracy': 1.0, 'eval_precision': 1.0, 'eval_recall': 1.0, 'eval_f1': 1.0, 'eval_runtime': 3.5587, 'eval_samples_per_second': 114.085, 'eval_steps_per_second': 7.306, 'epoch': 7.0}\n"
     ]
    },
    {
     "data": {
      "application/vnd.jupyter.widget-view+json": {
       "model_id": "112f9e60ca0f483a950211a195c13e6a",
       "version_major": 2,
       "version_minor": 0
      },
      "text/plain": [
       "  0%|          | 0/26 [00:00<?, ?it/s]"
      ]
     },
     "metadata": {},
     "output_type": "display_data"
    },
    {
     "name": "stdout",
     "output_type": "stream",
     "text": [
      "{'eval_loss': 0.0001609038736205548, 'eval_accuracy': 1.0, 'eval_precision': 1.0, 'eval_recall': 1.0, 'eval_f1': 1.0, 'eval_runtime': 3.5632, 'eval_samples_per_second': 113.944, 'eval_steps_per_second': 7.297, 'epoch': 8.0}\n",
      "{'loss': 0.0002, 'grad_norm': 0.0030010042246431112, 'learning_rate': 7.627118644067798e-06, 'epoch': 8.47}\n"
     ]
    },
    {
     "data": {
      "application/vnd.jupyter.widget-view+json": {
       "model_id": "1cd4e77027ec4be495e5c7d5ecdcb4bf",
       "version_major": 2,
       "version_minor": 0
      },
      "text/plain": [
       "  0%|          | 0/26 [00:00<?, ?it/s]"
      ]
     },
     "metadata": {},
     "output_type": "display_data"
    },
    {
     "name": "stdout",
     "output_type": "stream",
     "text": [
      "{'eval_loss': 0.00015275388432200998, 'eval_accuracy': 1.0, 'eval_precision': 1.0, 'eval_recall': 1.0, 'eval_f1': 1.0, 'eval_runtime': 3.6472, 'eval_samples_per_second': 111.318, 'eval_steps_per_second': 7.129, 'epoch': 9.0}\n"
     ]
    },
    {
     "data": {
      "application/vnd.jupyter.widget-view+json": {
       "model_id": "096dd0bc049a466f803cb0005622fd8b",
       "version_major": 2,
       "version_minor": 0
      },
      "text/plain": [
       "  0%|          | 0/26 [00:00<?, ?it/s]"
      ]
     },
     "metadata": {},
     "output_type": "display_data"
    },
    {
     "name": "stdout",
     "output_type": "stream",
     "text": [
      "{'eval_loss': 0.00015003255975898355, 'eval_accuracy': 1.0, 'eval_precision': 1.0, 'eval_recall': 1.0, 'eval_f1': 1.0, 'eval_runtime': 3.5891, 'eval_samples_per_second': 113.12, 'eval_steps_per_second': 7.244, 'epoch': 10.0}\n",
      "{'train_runtime': 613.025, 'train_samples_per_second': 30.733, 'train_steps_per_second': 1.925, 'train_loss': 0.004361982337372788, 'epoch': 10.0}\n"
     ]
    },
    {
     "data": {
      "text/plain": [
       "TrainOutput(global_step=1180, training_loss=0.004361982337372788, metrics={'train_runtime': 613.025, 'train_samples_per_second': 30.733, 'train_steps_per_second': 1.925, 'total_flos': 1239253070745600.0, 'train_loss': 0.004361982337372788, 'epoch': 10.0})"
      ]
     },
     "execution_count": 2,
     "metadata": {},
     "output_type": "execute_result"
    }
   ],
   "source": [
    "import os\n",
    "import torch\n",
    "import numpy as np\n",
    "from datasets import load_dataset, Features, Sequence, Value\n",
    "from transformers import AutoTokenizer, AutoModelForSequenceClassification, TrainingArguments, Trainer\n",
    "from sklearn.metrics import accuracy_score, precision_recall_fscore_support\n",
    "\n",
    "MODEL_NAME = \"bert-base-uncased\"\n",
    "\n",
    "ds = load_dataset(\"NLBSE/nlbse25-code-comment-classification\")\n",
    "\n",
    "\n",
    "lang = \"python\" # for training I just swapped out the language for each model\n",
    "train_set = ds[f\"{lang}_train\"]\n",
    "test_set = ds[f\"{lang}_test\"]\n",
    "\n",
    "print(\"Train columns:\", train_set.column_names)\n",
    "print(\"First training example:\", train_set[0])\n",
    "\n",
    "all_labels = set()\n",
    "for label_list in train_set[\"labels\"]:\n",
    "    for label in label_list:\n",
    "        all_labels.add(label)\n",
    "\n",
    "all_labels = sorted(list(all_labels))\n",
    "label2id = {label: idx for idx, label in enumerate(all_labels)}\n",
    "id2label = {idx: label for label, idx in label2id.items()}\n",
    "\n",
    "print(\"Unique labels extracted:\", all_labels)\n",
    "print(\"Label2ID mapping:\", label2id)\n",
    "\n",
    "tokenizer = AutoTokenizer.from_pretrained(MODEL_NAME)\n",
    "\n",
    "def preprocess_examples(examples):\n",
    "    encoding = tokenizer(\n",
    "        examples[\"comment_sentence\"], \n",
    "        truncation=True, \n",
    "        padding=\"max_length\", \n",
    "        max_length=128, \n",
    "        return_tensors=\"pt\"\n",
    "    )\n",
    "\n",
    "    multi_hot_labels = []\n",
    "    for label_list in examples[\"labels\"]:\n",
    "        label_vec = torch.zeros(len(all_labels), dtype=torch.float32)\n",
    "        for lbl in label_list:\n",
    "            label_idx = label2id[lbl]\n",
    "            label_vec[label_idx] = 1.0\n",
    "        multi_hot_labels.append(label_vec)\n",
    "\n",
    "    multi_hot_labels = torch.stack(multi_hot_labels)\n",
    "\n",
    "    return {\n",
    "        \"input_ids\": encoding[\"input_ids\"],\n",
    "        \"attention_mask\": encoding[\"attention_mask\"],\n",
    "        \"labels\": multi_hot_labels\n",
    "    }\n",
    "\n",
    "processed_train = train_set.map(preprocess_examples, batched=True, batch_size=32)\n",
    "processed_test = test_set.map(preprocess_examples, batched=True, batch_size=32)\n",
    "\n",
    "unused_columns = ['index', 'class', 'comment_sentence', 'partition', 'combo']\n",
    "processed_train = processed_train.remove_columns(unused_columns)\n",
    "processed_test = processed_test.remove_columns(unused_columns)\n",
    "\n",
    "features = Features({\n",
    "    \"input_ids\": Sequence(Value(\"int64\")),\n",
    "    \"attention_mask\": Sequence(Value(\"int64\")),\n",
    "    \"labels\": Sequence(Value(\"float32\"))\n",
    "})\n",
    "\n",
    "processed_train = processed_train.cast(features)\n",
    "processed_test = processed_test.cast(features)\n",
    "\n",
    "processed_train.set_format(type=\"torch\", columns=[\"input_ids\", \"attention_mask\", \"labels\"])\n",
    "processed_test.set_format(type=\"torch\", columns=[\"input_ids\", \"attention_mask\", \"labels\"])\n",
    "\n",
    "print(\"Data preprocessing complete. Ready for model training.\")\n",
    "\n",
    "num_labels = len(all_labels)\n",
    "\n",
    "model = AutoModelForSequenceClassification.from_pretrained(\n",
    "    MODEL_NAME,\n",
    "    num_labels=num_labels,\n",
    "    problem_type=\"multi_label_classification\"\n",
    ")\n",
    "\n",
    "def compute_metrics(eval_pred):\n",
    "    predictions, labels = eval_pred\n",
    "    probs = 1 / (1 + np.exp(-predictions))\n",
    "    preds = (probs > 0.5).astype(int)\n",
    "    avg = \"micro\"\n",
    "    precision, recall, f1, _ = precision_recall_fscore_support(labels, preds, average=avg)\n",
    "    acc = accuracy_score(labels, preds)\n",
    "    return {\n",
    "        \"accuracy\": acc,\n",
    "        \"precision\": precision,\n",
    "        \"recall\": recall,\n",
    "        \"f1\": f1\n",
    "    }\n",
    "\n",
    "training_args = TrainingArguments(\n",
    "    output_dir=\"./results\",\n",
    "    evaluation_strategy=\"epoch\",\n",
    "    save_strategy=\"epoch\",\n",
    "    per_device_train_batch_size=16,\n",
    "    per_device_eval_batch_size=16,\n",
    "    num_train_epochs=10,\n",
    "    learning_rate=5e-5,\n",
    "    weight_decay=0.01,\n",
    "    logging_dir=\"./logs\",\n",
    "    load_best_model_at_end=True,\n",
    ")\n",
    "\n",
    "trainer = Trainer(\n",
    "    model=model,\n",
    "    args=training_args,\n",
    "    train_dataset=processed_train,\n",
    "    eval_dataset=processed_test,\n",
    "    tokenizer=tokenizer,\n",
    "    compute_metrics=compute_metrics\n",
    ")\n",
    "\n",
    "trainer.train()"
   ]
  },
  {
   "cell_type": "code",
   "execution_count": 3,
   "metadata": {},
   "outputs": [
    {
     "data": {
      "application/vnd.jupyter.widget-view+json": {
       "model_id": "9751367b5b18432f8ce48aece035c587",
       "version_major": 2,
       "version_minor": 0
      },
      "text/plain": [
       "  0%|          | 0/26 [00:00<?, ?it/s]"
      ]
     },
     "metadata": {},
     "output_type": "display_data"
    },
    {
     "name": "stdout",
     "output_type": "stream",
     "text": [
      "Evaluation Results: {'eval_loss': 0.00015003255975898355, 'eval_accuracy': 1.0, 'eval_precision': 1.0, 'eval_recall': 1.0, 'eval_f1': 1.0, 'eval_runtime': 3.5939, 'eval_samples_per_second': 112.969, 'eval_steps_per_second': 7.234, 'epoch': 10.0}\n",
      "Final Test Accuracy: 1.0\n",
      "Final Test Precision: 1.0\n",
      "Final Test Recall: 1.0\n",
      "Final Test F1-score: 1.0\n"
     ]
    }
   ],
   "source": [
    "results = trainer.evaluate()\n",
    "print(\"Evaluation Results:\", results)\n",
    "\n",
    "print(\"Final Test Accuracy:\", results.get(\"eval_accuracy\"))\n",
    "print(\"Final Test Precision:\", results.get(\"eval_precision\"))\n",
    "print(\"Final Test Recall:\", results.get(\"eval_recall\"))\n",
    "print(\"Final Test F1-score:\", results.get(\"eval_f1\"))"
   ]
  },
  {
   "cell_type": "code",
   "execution_count": 4,
   "metadata": {},
   "outputs": [
    {
     "data": {
      "image/png": "[encoded data removed]",
      "text/plain": [
       "<Figure size 1000x600 with 1 Axes>"
      ]
     },
     "metadata": {},
     "output_type": "display_data"
    }
   ],
   "source": [
    "import matplotlib.pyplot as plt\n",
    "\n",
    "# Extract training and evaluation loss from trainer's log history\n",
    "train_loss = []\n",
    "eval_loss = []\n",
    "epochs = []\n",
    "\n",
    "for log in trainer.state.log_history:\n",
    "    if \"loss\" in log and \"epoch\" in log:\n",
    "        train_loss.append(log[\"loss\"])\n",
    "        epochs.append(log[\"epoch\"])\n",
    "    if \"eval_loss\" in log:\n",
    "        eval_loss.append(log[\"eval_loss\"])\n",
    "\n",
    "# Plot Training and Evaluation Loss\n",
    "plt.figure(figsize=(10, 6))\n",
    "plt.plot(epochs, train_loss, label=\"Training Loss\", marker='o')\n",
    "# eval_loss might have fewer points (one per evaluation), so we assume it corresponds to full epochs:\n",
    "if len(eval_loss) == len(epochs):\n",
    "    plt.plot(epochs, eval_loss, label=\"Validation Loss\", marker='x')\n",
    "else:\n",
    "    # If eval is less frequent, just plot what we have\n",
    "    eval_epochs = [ep for ep, log in enumerate(trainer.state.log_history) if \"eval_loss\" in log]\n",
    "    plt.plot(eval_epochs, eval_loss, label=\"Validation Loss\", marker='x')\n",
    "\n",
    "plt.title(\"Training and Validation Loss Over Epochs\")\n",
    "plt.xlabel(\"Epoch\")\n",
    "plt.ylabel(\"Loss\")\n",
    "plt.legend()\n",
    "plt.grid(True)\n",
    "plt.show()"
   ]
  },
  {
   "cell_type": "code",
   "execution_count": 5,
   "metadata": {},
   "outputs": [
    {
     "data": {
      "text/plain": [
       "('./python_model_epoch10/tokenizer_config.json',\n",
       " './python_model_epoch10/special_tokens_map.json',\n",
       " './python_model_epoch10/vocab.txt',\n",
       " './python_model_epoch10/added_tokens.json',\n",
       " './python_model_epoch10/tokenizer.json')"
      ]
     },
     "execution_count": 5,
     "metadata": {},
     "output_type": "execute_result"
    }
   ],
   "source": [
    "model.config.label2id = label2id\n",
    "model.config.id2label = id2label\n",
    "\n",
    "trainer.save_model(\"./python_model_epoch10\")\n",
    "tokenizer.save_pretrained(\"./python_model_epoch10\")"
   ]
  }
 ],
 "metadata": {
  "kernelspec": {
   "display_name": "3.9.18",
   "language": "python",
   "name": "python3"
  },
  "language_info": {
   "codemirror_mode": {
    "name": "ipython",
    "version": 3
   },
   "file_extension": ".py",
   "mimetype": "text/x-python",
   "name": "python",
   "nbconvert_exporter": "python",
   "pygments_lexer": "ipython3",
   "version": "3.9.18"
  }
 },
 "nbformat": 4,
 "nbformat_minor": 2
}
